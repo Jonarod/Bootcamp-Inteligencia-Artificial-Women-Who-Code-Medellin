{
  "nbformat": 4,
  "nbformat_minor": 0,
  "metadata": {
    "colab": {
      "name": "Ejercicio sentimientos comentarios (Emeddings intro)",
      "provenance": []
    },
    "kernelspec": {
      "name": "python3",
      "display_name": "Python 3"
    },
    "language_info": {
      "name": "python"
    }
  },
  "cells": [
    {
      "cell_type": "code",
      "execution_count": null,
      "metadata": {
        "id": "z7YR3cJYQpmJ"
      },
      "outputs": [],
      "source": [
        "import numpy as np\n",
        "from tensorflow.keras.preprocessing.text import one_hot\n",
        "from tensorflow.keras.preprocessing.sequence import pad_sequences\n",
        "from tensorflow.keras.models import Sequential\n",
        "from tensorflow.keras.layers import Dense\n",
        "from tensorflow.keras.layers import Flatten\n",
        "from tensorflow.keras.layers import Embedding"
      ]
    },
    {
      "cell_type": "code",
      "source": [
        "reviews = ['la comida es rica',\n",
        "        'restaurante muy bueno',\n",
        "        'demasiado bueno',\n",
        "        'me gusto mucho',\n",
        "        'volveria de nuevo',\n",
        "        'concina horible',\n",
        "        'nunca ir aqui',\n",
        "        'servicio pesimo',\n",
        "        'calidad pesima',\n",
        "        'cocina mejorable']\n",
        "\n",
        "sentiment = np.array([1,1,1,1,1,0,0,0,0,0])"
      ],
      "metadata": {
        "id": "S59NROo2RG-u"
      },
      "execution_count": null,
      "outputs": []
    },
    {
      "cell_type": "code",
      "source": [
        "one_hot(\"restaurante muy bueno\",30)"
      ],
      "metadata": {
        "colab": {
          "base_uri": "https://localhost:8080/"
        },
        "id": "KoDmmvQPRlrB",
        "outputId": "b196cc2b-77cb-47f3-8b21-40cb81561fde"
      },
      "execution_count": null,
      "outputs": [
        {
          "output_type": "execute_result",
          "data": {
            "text/plain": [
              "[28, 18, 6]"
            ]
          },
          "metadata": {},
          "execution_count": 3
        }
      ]
    },
    {
      "cell_type": "code",
      "source": [
        "vocab_size = 30\n",
        "encoded_reviews = [one_hot(d, vocab_size) for d in reviews]\n",
        "encoded_reviews"
      ],
      "metadata": {
        "colab": {
          "base_uri": "https://localhost:8080/"
        },
        "id": "G--hUDQORvgm",
        "outputId": "60abd137-6e94-4271-ea35-64d7ed71bcd6"
      },
      "execution_count": null,
      "outputs": [
        {
          "output_type": "execute_result",
          "data": {
            "text/plain": [
              "[[7, 6, 9, 28],\n",
              " [28, 18, 6],\n",
              " [3, 6],\n",
              " [21, 4, 28],\n",
              " [4, 18, 3],\n",
              " [9, 13],\n",
              " [16, 13, 20],\n",
              " [5, 13],\n",
              " [20, 17],\n",
              " [4, 9]]"
            ]
          },
          "metadata": {},
          "execution_count": 4
        }
      ]
    },
    {
      "cell_type": "code",
      "source": [
        "max_length = 4\n",
        "padded_reviews = pad_sequences(encoded_reviews, maxlen=max_length, padding='post')\n",
        "padded_reviews"
      ],
      "metadata": {
        "colab": {
          "base_uri": "https://localhost:8080/"
        },
        "id": "qs7XjoLIRzxa",
        "outputId": "b6e229d2-98df-4347-98cd-c0fe893ce298"
      },
      "execution_count": null,
      "outputs": [
        {
          "output_type": "execute_result",
          "data": {
            "text/plain": [
              "array([[ 7,  6,  9, 28],\n",
              "       [28, 18,  6,  0],\n",
              "       [ 3,  6,  0,  0],\n",
              "       [21,  4, 28,  0],\n",
              "       [ 4, 18,  3,  0],\n",
              "       [ 9, 13,  0,  0],\n",
              "       [16, 13, 20,  0],\n",
              "       [ 5, 13,  0,  0],\n",
              "       [20, 17,  0,  0],\n",
              "       [ 4,  9,  0,  0]], dtype=int32)"
            ]
          },
          "metadata": {},
          "execution_count": 5
        }
      ]
    },
    {
      "cell_type": "code",
      "source": [
        "embeded_vector_size = 5\n",
        "\n",
        "model = Sequential()\n",
        "model.add(Embedding(vocab_size, embeded_vector_size, input_length=max_length,name=\"embedding\"))\n",
        "model.add(Flatten())\n",
        "model.add(Dense(1, activation='sigmoid'))"
      ],
      "metadata": {
        "id": "teGJ3ezAR8Mt"
      },
      "execution_count": null,
      "outputs": []
    },
    {
      "cell_type": "code",
      "source": [
        "X = padded_reviews\n",
        "y = sentiment"
      ],
      "metadata": {
        "id": "UP0WYJx0SBFa"
      },
      "execution_count": null,
      "outputs": []
    },
    {
      "cell_type": "code",
      "source": [
        "model.compile(optimizer='adam', loss='binary_crossentropy', metrics=['accuracy'])\n",
        "print(model.summary())"
      ],
      "metadata": {
        "colab": {
          "base_uri": "https://localhost:8080/"
        },
        "id": "XjOvppDmSDmX",
        "outputId": "da146d72-0b37-4a69-ac6f-8820732e0972"
      },
      "execution_count": null,
      "outputs": [
        {
          "output_type": "stream",
          "name": "stdout",
          "text": [
            "Model: \"sequential\"\n",
            "_________________________________________________________________\n",
            " Layer (type)                Output Shape              Param #   \n",
            "=================================================================\n",
            " embedding (Embedding)       (None, 4, 5)              150       \n",
            "                                                                 \n",
            " flatten (Flatten)           (None, 20)                0         \n",
            "                                                                 \n",
            " dense (Dense)               (None, 1)                 21        \n",
            "                                                                 \n",
            "=================================================================\n",
            "Total params: 171\n",
            "Trainable params: 171\n",
            "Non-trainable params: 0\n",
            "_________________________________________________________________\n",
            "None\n"
          ]
        }
      ]
    },
    {
      "cell_type": "code",
      "source": [
        "model.fit(X, y, epochs=50, verbose=0)"
      ],
      "metadata": {
        "colab": {
          "base_uri": "https://localhost:8080/"
        },
        "id": "t3OB3ns1SF-_",
        "outputId": "df25e2bc-5e76-484e-df69-159f2cf073ca"
      },
      "execution_count": null,
      "outputs": [
        {
          "output_type": "execute_result",
          "data": {
            "text/plain": [
              "<keras.callbacks.History at 0x7effb62befd0>"
            ]
          },
          "metadata": {},
          "execution_count": 9
        }
      ]
    },
    {
      "cell_type": "code",
      "source": [
        "loss, accuracy = model.evaluate(X, y)\n",
        "accuracy"
      ],
      "metadata": {
        "colab": {
          "base_uri": "https://localhost:8080/"
        },
        "id": "Cmw1A4eFSM2j",
        "outputId": "b0a3b57f-5761-4120-ad02-cafd182a332c"
      },
      "execution_count": null,
      "outputs": [
        {
          "output_type": "stream",
          "name": "stdout",
          "text": [
            "1/1 [==============================] - 0s 157ms/step - loss: 0.5978 - accuracy: 0.9000\n"
          ]
        },
        {
          "output_type": "execute_result",
          "data": {
            "text/plain": [
              "0.8999999761581421"
            ]
          },
          "metadata": {},
          "execution_count": 10
        }
      ]
    },
    {
      "cell_type": "code",
      "source": [
        "weights = model.get_layer('embedding').get_weights()[0]\n",
        "len(weights)"
      ],
      "metadata": {
        "colab": {
          "base_uri": "https://localhost:8080/"
        },
        "id": "MJEVX333SRbT",
        "outputId": "8aeff124-73a2-4538-c643-e2f1e2a27440"
      },
      "execution_count": null,
      "outputs": [
        {
          "output_type": "execute_result",
          "data": {
            "text/plain": [
              "30"
            ]
          },
          "metadata": {},
          "execution_count": 11
        }
      ]
    },
    {
      "cell_type": "code",
      "source": [
        "weights[13]"
      ],
      "metadata": {
        "id": "kH3my85MSXm1",
        "outputId": "a09d41d0-da93-4e45-ed57-79e091028c7c",
        "colab": {
          "base_uri": "https://localhost:8080/"
        }
      },
      "execution_count": null,
      "outputs": [
        {
          "output_type": "execute_result",
          "data": {
            "text/plain": [
              "array([ 0.02567121, -0.09422053,  0.03812515, -0.08888284, -0.0925156 ],\n",
              "      dtype=float32)"
            ]
          },
          "metadata": {},
          "execution_count": 12
        }
      ]
    },
    {
      "cell_type": "code",
      "source": [
        "weights[4]"
      ],
      "metadata": {
        "id": "DuRtxBZySajX",
        "outputId": "7e2fc83b-b8ed-4b1a-a9c6-3eb14b95c417",
        "colab": {
          "base_uri": "https://localhost:8080/"
        }
      },
      "execution_count": null,
      "outputs": [
        {
          "output_type": "execute_result",
          "data": {
            "text/plain": [
              "array([-0.02127583,  0.0148026 , -0.04409596,  0.09255254,  0.00249244],\n",
              "      dtype=float32)"
            ]
          },
          "metadata": {},
          "execution_count": 13
        }
      ]
    }
  ]
}