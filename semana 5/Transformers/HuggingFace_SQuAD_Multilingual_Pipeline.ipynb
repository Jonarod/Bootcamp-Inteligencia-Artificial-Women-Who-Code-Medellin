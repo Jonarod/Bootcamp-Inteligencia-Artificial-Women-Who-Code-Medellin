{
  "nbformat": 4,
  "nbformat_minor": 0,
  "metadata": {
    "colab": {
      "name": "HuggingFace SQuAD Multilingual Pipeline",
      "provenance": []
    },
    "kernelspec": {
      "name": "python3",
      "display_name": "Python 3"
    },
    "accelerator": "GPU"
  },
  "cells": [
    {
      "cell_type": "markdown",
      "metadata": {
        "id": "aAMVMki2lhAU"
      },
      "source": [
        "# Preguntas y Respuestas en contexto con BERT Spanish y HuggingFaces\n"
      ]
    },
    {
      "cell_type": "code",
      "metadata": {
        "id": "GycAZvO6lk5d",
        "colab": {
          "base_uri": "https://localhost:8080/"
        },
        "outputId": "f510503a-95dd-4856-acb8-11637549f681"
      },
      "source": [
        "!pip install -q transformers"
      ],
      "execution_count": null,
      "outputs": [
        {
          "output_type": "stream",
          "name": "stdout",
          "text": [
            "\u001b[K     |████████████████████████████████| 4.2 MB 32.1 MB/s \n",
            "\u001b[K     |████████████████████████████████| 6.6 MB 55.5 MB/s \n",
            "\u001b[K     |████████████████████████████████| 596 kB 67.4 MB/s \n",
            "\u001b[K     |████████████████████████████████| 84 kB 3.5 MB/s \n",
            "\u001b[?25h"
          ]
        }
      ]
    },
    {
      "cell_type": "code",
      "source": [
        "!pip install sacremoses"
      ],
      "metadata": {
        "id": "beXK5It29YjR",
        "outputId": "c778214f-32b5-4a8d-eaea-891446588829",
        "colab": {
          "base_uri": "https://localhost:8080/"
        }
      },
      "execution_count": null,
      "outputs": [
        {
          "output_type": "stream",
          "name": "stdout",
          "text": [
            "Collecting sacremoses\n",
            "  Downloading sacremoses-0.0.53.tar.gz (880 kB)\n",
            "\u001b[?25l\r\u001b[K     |▍                               | 10 kB 24.7 MB/s eta 0:00:01\r\u001b[K     |▊                               | 20 kB 32.9 MB/s eta 0:00:01\r\u001b[K     |█▏                              | 30 kB 33.4 MB/s eta 0:00:01\r\u001b[K     |█▌                              | 40 kB 22.8 MB/s eta 0:00:01\r\u001b[K     |█▉                              | 51 kB 19.1 MB/s eta 0:00:01\r\u001b[K     |██▎                             | 61 kB 21.9 MB/s eta 0:00:01\r\u001b[K     |██▋                             | 71 kB 22.1 MB/s eta 0:00:01\r\u001b[K     |███                             | 81 kB 23.9 MB/s eta 0:00:01\r\u001b[K     |███▍                            | 92 kB 26.0 MB/s eta 0:00:01\r\u001b[K     |███▊                            | 102 kB 24.1 MB/s eta 0:00:01\r\u001b[K     |████                            | 112 kB 24.1 MB/s eta 0:00:01\r\u001b[K     |████▌                           | 122 kB 24.1 MB/s eta 0:00:01\r\u001b[K     |████▉                           | 133 kB 24.1 MB/s eta 0:00:01\r\u001b[K     |█████▏                          | 143 kB 24.1 MB/s eta 0:00:01\r\u001b[K     |█████▋                          | 153 kB 24.1 MB/s eta 0:00:01\r\u001b[K     |██████                          | 163 kB 24.1 MB/s eta 0:00:01\r\u001b[K     |██████▎                         | 174 kB 24.1 MB/s eta 0:00:01\r\u001b[K     |██████▊                         | 184 kB 24.1 MB/s eta 0:00:01\r\u001b[K     |███████                         | 194 kB 24.1 MB/s eta 0:00:01\r\u001b[K     |███████▍                        | 204 kB 24.1 MB/s eta 0:00:01\r\u001b[K     |███████▉                        | 215 kB 24.1 MB/s eta 0:00:01\r\u001b[K     |████████▏                       | 225 kB 24.1 MB/s eta 0:00:01\r\u001b[K     |████████▋                       | 235 kB 24.1 MB/s eta 0:00:01\r\u001b[K     |█████████                       | 245 kB 24.1 MB/s eta 0:00:01\r\u001b[K     |█████████▎                      | 256 kB 24.1 MB/s eta 0:00:01\r\u001b[K     |█████████▊                      | 266 kB 24.1 MB/s eta 0:00:01\r\u001b[K     |██████████                      | 276 kB 24.1 MB/s eta 0:00:01\r\u001b[K     |██████████▍                     | 286 kB 24.1 MB/s eta 0:00:01\r\u001b[K     |██████████▉                     | 296 kB 24.1 MB/s eta 0:00:01\r\u001b[K     |███████████▏                    | 307 kB 24.1 MB/s eta 0:00:01\r\u001b[K     |███████████▌                    | 317 kB 24.1 MB/s eta 0:00:01\r\u001b[K     |████████████                    | 327 kB 24.1 MB/s eta 0:00:01\r\u001b[K     |████████████▎                   | 337 kB 24.1 MB/s eta 0:00:01\r\u001b[K     |████████████▋                   | 348 kB 24.1 MB/s eta 0:00:01\r\u001b[K     |█████████████                   | 358 kB 24.1 MB/s eta 0:00:01\r\u001b[K     |█████████████▍                  | 368 kB 24.1 MB/s eta 0:00:01\r\u001b[K     |█████████████▊                  | 378 kB 24.1 MB/s eta 0:00:01\r\u001b[K     |██████████████▏                 | 389 kB 24.1 MB/s eta 0:00:01\r\u001b[K     |██████████████▌                 | 399 kB 24.1 MB/s eta 0:00:01\r\u001b[K     |██████████████▉                 | 409 kB 24.1 MB/s eta 0:00:01\r\u001b[K     |███████████████▎                | 419 kB 24.1 MB/s eta 0:00:01\r\u001b[K     |███████████████▋                | 430 kB 24.1 MB/s eta 0:00:01\r\u001b[K     |████████████████                | 440 kB 24.1 MB/s eta 0:00:01\r\u001b[K     |████████████████▍               | 450 kB 24.1 MB/s eta 0:00:01\r\u001b[K     |████████████████▊               | 460 kB 24.1 MB/s eta 0:00:01\r\u001b[K     |█████████████████▏              | 471 kB 24.1 MB/s eta 0:00:01\r\u001b[K     |█████████████████▌              | 481 kB 24.1 MB/s eta 0:00:01\r\u001b[K     |█████████████████▉              | 491 kB 24.1 MB/s eta 0:00:01\r\u001b[K     |██████████████████▎             | 501 kB 24.1 MB/s eta 0:00:01\r\u001b[K     |██████████████████▋             | 512 kB 24.1 MB/s eta 0:00:01\r\u001b[K     |███████████████████             | 522 kB 24.1 MB/s eta 0:00:01\r\u001b[K     |███████████████████▍            | 532 kB 24.1 MB/s eta 0:00:01\r\u001b[K     |███████████████████▊            | 542 kB 24.1 MB/s eta 0:00:01\r\u001b[K     |████████████████████            | 552 kB 24.1 MB/s eta 0:00:01\r\u001b[K     |████████████████████▌           | 563 kB 24.1 MB/s eta 0:00:01\r\u001b[K     |████████████████████▉           | 573 kB 24.1 MB/s eta 0:00:01\r\u001b[K     |█████████████████████▏          | 583 kB 24.1 MB/s eta 0:00:01\r\u001b[K     |█████████████████████▋          | 593 kB 24.1 MB/s eta 0:00:01\r\u001b[K     |██████████████████████          | 604 kB 24.1 MB/s eta 0:00:01\r\u001b[K     |██████████████████████▎         | 614 kB 24.1 MB/s eta 0:00:01\r\u001b[K     |██████████████████████▊         | 624 kB 24.1 MB/s eta 0:00:01\r\u001b[K     |███████████████████████         | 634 kB 24.1 MB/s eta 0:00:01\r\u001b[K     |███████████████████████▍        | 645 kB 24.1 MB/s eta 0:00:01\r\u001b[K     |███████████████████████▉        | 655 kB 24.1 MB/s eta 0:00:01\r\u001b[K     |████████████████████████▏       | 665 kB 24.1 MB/s eta 0:00:01\r\u001b[K     |████████████████████████▋       | 675 kB 24.1 MB/s eta 0:00:01\r\u001b[K     |█████████████████████████       | 686 kB 24.1 MB/s eta 0:00:01\r\u001b[K     |█████████████████████████▎      | 696 kB 24.1 MB/s eta 0:00:01\r\u001b[K     |█████████████████████████▊      | 706 kB 24.1 MB/s eta 0:00:01\r\u001b[K     |██████████████████████████      | 716 kB 24.1 MB/s eta 0:00:01\r\u001b[K     |██████████████████████████▍     | 727 kB 24.1 MB/s eta 0:00:01\r\u001b[K     |██████████████████████████▉     | 737 kB 24.1 MB/s eta 0:00:01\r\u001b[K     |███████████████████████████▏    | 747 kB 24.1 MB/s eta 0:00:01\r\u001b[K     |███████████████████████████▌    | 757 kB 24.1 MB/s eta 0:00:01\r\u001b[K     |████████████████████████████    | 768 kB 24.1 MB/s eta 0:00:01\r\u001b[K     |████████████████████████████▎   | 778 kB 24.1 MB/s eta 0:00:01\r\u001b[K     |████████████████████████████▋   | 788 kB 24.1 MB/s eta 0:00:01\r\u001b[K     |█████████████████████████████   | 798 kB 24.1 MB/s eta 0:00:01\r\u001b[K     |█████████████████████████████▍  | 808 kB 24.1 MB/s eta 0:00:01\r\u001b[K     |█████████████████████████████▊  | 819 kB 24.1 MB/s eta 0:00:01\r\u001b[K     |██████████████████████████████▏ | 829 kB 24.1 MB/s eta 0:00:01\r\u001b[K     |██████████████████████████████▌ | 839 kB 24.1 MB/s eta 0:00:01\r\u001b[K     |██████████████████████████████▉ | 849 kB 24.1 MB/s eta 0:00:01\r\u001b[K     |███████████████████████████████▎| 860 kB 24.1 MB/s eta 0:00:01\r\u001b[K     |███████████████████████████████▋| 870 kB 24.1 MB/s eta 0:00:01\r\u001b[K     |████████████████████████████████| 880 kB 24.1 MB/s \n",
            "\u001b[?25hRequirement already satisfied: regex in /usr/local/lib/python3.7/dist-packages (from sacremoses) (2019.12.20)\n",
            "Requirement already satisfied: six in /usr/local/lib/python3.7/dist-packages (from sacremoses) (1.15.0)\n",
            "Requirement already satisfied: click in /usr/local/lib/python3.7/dist-packages (from sacremoses) (7.1.2)\n",
            "Requirement already satisfied: joblib in /usr/local/lib/python3.7/dist-packages (from sacremoses) (1.1.0)\n",
            "Requirement already satisfied: tqdm in /usr/local/lib/python3.7/dist-packages (from sacremoses) (4.64.0)\n",
            "Building wheels for collected packages: sacremoses\n",
            "  Building wheel for sacremoses (setup.py) ... \u001b[?25l\u001b[?25hdone\n",
            "  Created wheel for sacremoses: filename=sacremoses-0.0.53-py3-none-any.whl size=895260 sha256=41d679cfbbd8db202a89e8dec3427746104095466b1cd4a8bd330b971459fe27\n",
            "  Stored in directory: /root/.cache/pip/wheels/87/39/dd/a83eeef36d0bf98e7a4d1933a4ad2d660295a40613079bafc9\n",
            "Successfully built sacremoses\n",
            "Installing collected packages: sacremoses\n",
            "Successfully installed sacremoses-0.0.53\n"
          ]
        }
      ]
    },
    {
      "cell_type": "code",
      "metadata": {
        "id": "keZfuUAUlYNT"
      },
      "source": [
        "from transformers import *"
      ],
      "execution_count": null,
      "outputs": []
    },
    {
      "cell_type": "markdown",
      "metadata": {
        "id": "J6RKyjkRlcsK"
      },
      "source": [
        "## 1. Create the pipeline"
      ]
    },
    {
      "cell_type": "code",
      "metadata": {
        "id": "tZwiKpSOldLQ"
      },
      "source": [
        "# By now we do not use fast tokenizer so we create the tokenizer with the object {\"use_fast\": False}\n",
        "nlp = pipeline(\n",
        "    'question-answering', \n",
        "    model='mrm8488/distill-bert-base-spanish-wwm-cased-finetuned-spa-squad2-es',\n",
        "    tokenizer=(\n",
        "        'mrm8488/distill-bert-base-spanish-wwm-cased-finetuned-spa-squad2-es',  \n",
        "        {\"use_fast\": False}\n",
        "    )\n",
        ")"
      ],
      "execution_count": null,
      "outputs": []
    },
    {
      "cell_type": "markdown",
      "metadata": {
        "id": "dGWbLBRnlxR3"
      },
      "source": [
        "## 2. Set the context"
      ]
    },
    {
      "cell_type": "code",
      "metadata": {
        "id": "9auAN4VhlpzY"
      },
      "source": [
        "context = 'Manuel Romero está colaborando activamente con huggingface/transformers para traer el poder de las últimas técnicas de procesamiento de lenguaje natural al idioma español'"
      ],
      "execution_count": null,
      "outputs": []
    },
    {
      "cell_type": "markdown",
      "metadata": {
        "id": "rKAbO71dlyiv"
      },
      "source": [
        "## 3. Make questions"
      ]
    },
    {
      "cell_type": "code",
      "metadata": {
        "id": "2CdQh0Psl3U8",
        "colab": {
          "base_uri": "https://localhost:8080/"
        },
        "outputId": "8bef2685-22d0-4804-e7b1-6385a45a48f6"
      },
      "source": [
        "nlp(\n",
        "    {\n",
        "        'question': '¿Quién está trabajando activamente con huggingface/transformer? ',\n",
        "        'context': context\n",
        "    }\n",
        ")"
      ],
      "execution_count": null,
      "outputs": [
        {
          "output_type": "execute_result",
          "data": {
            "text/plain": [
              "{'answer': 'Manuel Romero', 'end': 13, 'score': 0.9647331237792969, 'start': 0}"
            ]
          },
          "metadata": {},
          "execution_count": 7
        }
      ]
    },
    {
      "cell_type": "code",
      "metadata": {
        "id": "HRFs57Pjl7-a",
        "colab": {
          "base_uri": "https://localhost:8080/"
        },
        "outputId": "37620482-91b6-4fac-c3f7-67a18cdc2946"
      },
      "source": [
        "nlp(\n",
        "    {\n",
        "        'question': '¿Para qué lenguaje está trabajando?',\n",
        "        'context': context\n",
        "                    \n",
        "    }\n",
        ")"
      ],
      "execution_count": null,
      "outputs": [
        {
          "output_type": "execute_result",
          "data": {
            "text/plain": [
              "{'answer': 'español', 'end': 169, 'score': 0.9469614028930664, 'start': 163}"
            ]
          },
          "metadata": {},
          "execution_count": 8
        }
      ]
    },
    {
      "cell_type": "code",
      "metadata": {
        "id": "HWp_mI2-mOBD",
        "colab": {
          "base_uri": "https://localhost:8080/"
        },
        "outputId": "b85f9a8d-0b37-4c8d-a72c-48e384e0f2ca"
      },
      "source": [
        "nlp(\n",
        "    {\n",
        "        'question': '¿Para qué empresa?',\n",
        "        'context': context\n",
        "                    \n",
        "    }\n",
        ")"
      ],
      "execution_count": null,
      "outputs": [
        {
          "output_type": "execute_result",
          "data": {
            "text/plain": [
              "{'answer': 'huggingface/transformers',\n",
              " 'end': 71,\n",
              " 'score': 0.5579975247383118,\n",
              " 'start': 47}"
            ]
          },
          "metadata": {},
          "execution_count": 9
        }
      ]
    },
    {
      "cell_type": "code",
      "source": [
        ""
      ],
      "metadata": {
        "id": "2JT6uW6T9mDz"
      },
      "execution_count": null,
      "outputs": []
    }
  ]
}