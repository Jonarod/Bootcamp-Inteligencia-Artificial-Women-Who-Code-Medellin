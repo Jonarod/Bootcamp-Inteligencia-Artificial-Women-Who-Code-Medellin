{
  "cells": [
    {
      "cell_type": "markdown",
      "metadata": {
        "id": "pVzQ1KMCLs5_"
      },
      "source": [
        "# Clasificación de texto usando LSTMs con TensorFlow 2.0"
      ]
    },
    {
      "cell_type": "markdown",
      "metadata": {
        "id": "mypT6qjZa1b8"
      },
      "source": [
        "Vamos a crear una Red Neuronal Recurrente (BiLSTM) capaz de clasificar si una secuencia de una novela pertenece a Benito Pérez Galdós o Emilia Pardo Bazán.\n",
        " - Idea y preparación del dataset de [Javier de La Rosa](https://twitter.com/versae)"
      ]
    },
    {
      "cell_type": "markdown",
      "metadata": {
        "id": "Pe55OPlQMJj6"
      },
      "source": [
        "## Importamos las bibliotecas requeridas"
      ]
    },
    {
      "cell_type": "code",
      "execution_count": null,
      "metadata": {
        "colab": {
          "base_uri": "https://localhost:8080/"
        },
        "id": "i_cQyHTKXT7n",
        "outputId": "cb7ad721-5d5e-4564-d6be-d141f0b09965"
      },
      "outputs": [
        {
          "name": "stdout",
          "output_type": "stream",
          "text": [
            "2.8.0\n"
          ]
        }
      ],
      "source": [
        "import csv\n",
        "import tensorflow as tf\n",
        "import numpy as np\n",
        "import pandas as pd\n",
        "import matplotlib.pyplot as plt\n",
        "from tensorflow.keras.preprocessing.text import Tokenizer\n",
        "from tensorflow.keras.preprocessing.sequence import pad_sequences\n",
        "from tqdm import tqdm\n",
        "import requests\n",
        "print(tf.__version__)"
      ]
    },
    {
      "cell_type": "markdown",
      "metadata": {
        "id": "ksxRTxvFL3RV"
      },
      "source": [
        "## Descarga del dataset"
      ]
    },
    {
      "cell_type": "markdown",
      "metadata": {
        "id": "Q7tbGXHJbYVh"
      },
      "source": [
        "Descargaremos 3 novelas por autor"
      ]
    },
    {
      "cell_type": "code",
      "execution_count": null,
      "metadata": {
        "colab": {
          "base_uri": "https://localhost:8080/"
        },
        "id": "ygmo15fbdP1o",
        "outputId": "d7469325-25b6-421a-a3e8-d53ed0080524"
      },
      "outputs": [
        {
          "name": "stderr",
          "output_type": "stream",
          "text": [
            "100%|██████████| 6/6 [00:05<00:00,  1.03it/s]\n"
          ]
        }
      ],
      "source": [
        "URLS = [\n",
        "    (\"galdos\", \"http://www.gutenberg.org/cache/epub/52392/pg52392.txt\"),  # Miau\n",
        "    (\"galdos\", \"http://www.gutenberg.org/cache/epub/15725/pg15725.txt\"),  # Doña Perfecta\n",
        "    (\"galdos\", \"http://www.gutenberg.org/cache/epub/17013/pg17013.txt\"),  # Fortunata y Jacinta\n",
        "    (\"bazan\", \"https://www.gutenberg.org/files/65632/65632-0.txt\"),  # La prueba\n",
        "    (\"bazan\", \"https://www.gutenberg.org/files/58059/58059-0.txt\"),  # La Madre Naturaleza\n",
        "    (\"bazan\", \"https://www.gutenberg.org/cache/epub/17491/pg17491.txt\"),  # La Tribuna\n",
        "]\n",
        "\n",
        "galdos = \"\"\n",
        "bazan = \"\"\n",
        "for author, url in tqdm(URLS):\n",
        "    work_text = requests.get(url).text\n",
        "    start_mark = \"START OF \"\n",
        "    end_mark = \"END OF \"\n",
        "    work_text = work_text[work_text.index(start_mark):work_text.index(end_mark)]\n",
        "    if author == \"galdos\":\n",
        "        galdos += \"\\n\" + work_text\n",
        "    else:\n",
        "        bazan += \"\\n\" + work_text"
      ]
    },
    {
      "cell_type": "markdown",
      "metadata": {
        "id": "MYHZWOD1W6ck"
      },
      "source": [
        "Vamos a dividir las novelas en secuencias de una longitud de 250 palabras. Podemos probar con una longitud superior e inferior. Al fin y al cabo es un parámetro a tener en cuenta cuando se define una RNN"
      ]
    },
    {
      "cell_type": "code",
      "execution_count": null,
      "metadata": {
        "id": "mXX73jpWoHB2"
      },
      "outputs": [],
      "source": [
        "n = 250\n",
        "\n",
        "galdos_splits = galdos.split()\n",
        "galdos_chunks = [galdos_splits[i:i + n] for i in range(0, len(galdos_splits), n)]\n",
        "\n",
        "bazan_splits = bazan.split()\n",
        "bazan_chunks = [bazan_splits[i:i + n] for i in range(0, len(bazan_splits), n)]"
      ]
    },
    {
      "cell_type": "markdown",
      "metadata": {
        "id": "5Fg1R_RAXCAm"
      },
      "source": [
        "Ahora construiremos una tabla (`DataFrame`) con los textos de cada extracto y una segunda columna indicando si pertenecen la obra de Galdós con un 1 o de Pardo Bazán con un 0."
      ]
    },
    {
      "cell_type": "code",
      "execution_count": null,
      "metadata": {
        "colab": {
          "base_uri": "https://localhost:8080/"
        },
        "id": "N19hpkoZoLWV",
        "outputId": "14a523b0-8de0-4660-8cd5-9c6d4f4ca9d2"
      },
      "outputs": [
        {
          "data": {
            "text/plain": [
              "(2426, 868)"
            ]
          },
          "execution_count": 4,
          "metadata": {},
          "output_type": "execute_result"
        }
      ],
      "source": [
        "galdos_len = len(galdos_chunks)\n",
        "bazan_len = len(bazan_chunks)\n",
        "galdos_len, bazan_len "
      ]
    },
    {
      "cell_type": "code",
      "execution_count": null,
      "metadata": {
        "id": "ia-Ju3mtXJZ2"
      },
      "outputs": [],
      "source": [
        "galdos_df = pd.DataFrame(\n",
        "    [\" \".join(chunk) for chunk in galdos_chunks],\n",
        "    columns=[\"text\"]\n",
        ").assign(labels=1).sample(frac=1).reset_index(drop=True)\n",
        "\n",
        "bazan_df = pd.DataFrame(\n",
        "    [\" \".join(chunk) for chunk in bazan_chunks],\n",
        "    columns=[\"text\"]\n",
        ").assign(labels=0).sample(frac=1).reset_index(drop=True)"
      ]
    },
    {
      "cell_type": "code",
      "execution_count": null,
      "metadata": {
        "colab": {
          "base_uri": "https://localhost:8080/",
          "height": 423
        },
        "id": "xCzA4ACFcTcp",
        "outputId": "03a82734-c222-4fef-a5bb-3043a192504b"
      },
      "outputs": [
        {
          "data": {
            "text/html": [
              "\n",
              "  <div id=\"df-540bdd4f-f02f-4a10-9a9c-0acae859f725\">\n",
              "    <div class=\"colab-df-container\">\n",
              "      <div>\n",
              "<style scoped>\n",
              "    .dataframe tbody tr th:only-of-type {\n",
              "        vertical-align: middle;\n",
              "    }\n",
              "\n",
              "    .dataframe tbody tr th {\n",
              "        vertical-align: top;\n",
              "    }\n",
              "\n",
              "    .dataframe thead th {\n",
              "        text-align: right;\n",
              "    }\n",
              "</style>\n",
              "<table border=\"1\" class=\"dataframe\">\n",
              "  <thead>\n",
              "    <tr style=\"text-align: right;\">\n",
              "      <th></th>\n",
              "      <th>text</th>\n",
              "      <th>labels</th>\n",
              "    </tr>\n",
              "  </thead>\n",
              "  <tbody>\n",
              "    <tr>\n",
              "      <th>0</th>\n",
              "      <td>prophet. =profundo= deep, profound, abysmal; _...</td>\n",
              "      <td>1</td>\n",
              "    </tr>\n",
              "    <tr>\n",
              "      <th>1</th>\n",
              "      <td>sonrisa con que su primo acogiera tan extraña ...</td>\n",
              "      <td>1</td>\n",
              "    </tr>\n",
              "    <tr>\n",
              "      <th>2</th>\n",
              "      <td>la inocencia. --Me voy. No deje usted de pasar...</td>\n",
              "      <td>1</td>\n",
              "    </tr>\n",
              "    <tr>\n",
              "      <th>3</th>\n",
              "      <td>que casi se tocaban cara con cara. «Fortunata....</td>\n",
              "      <td>1</td>\n",
              "    </tr>\n",
              "    <tr>\n",
              "      <th>4</th>\n",
              "      <td>cuando de ella esté completamente desligada su...</td>\n",
              "      <td>1</td>\n",
              "    </tr>\n",
              "    <tr>\n",
              "      <th>...</th>\n",
              "      <td>...</td>\n",
              "      <td>...</td>\n",
              "    </tr>\n",
              "    <tr>\n",
              "      <th>2421</th>\n",
              "      <td>distancia, a un hombre que salía de la casa. E...</td>\n",
              "      <td>1</td>\n",
              "    </tr>\n",
              "    <tr>\n",
              "      <th>2422</th>\n",
              "      <td>antiespasmódica. La he hecho yo mismo, y traig...</td>\n",
              "      <td>1</td>\n",
              "    </tr>\n",
              "    <tr>\n",
              "      <th>2423</th>\n",
              "      <td>la estudiada actitud bonachona y festiva. Lueg...</td>\n",
              "      <td>1</td>\n",
              "    </tr>\n",
              "    <tr>\n",
              "      <th>2424</th>\n",
              "      <td>las diez--dijo Villalonga--. Fui al Casino a l...</td>\n",
              "      <td>1</td>\n",
              "    </tr>\n",
              "    <tr>\n",
              "      <th>2425</th>\n",
              "      <td>Total, que el adverbio debía de ser una cosa m...</td>\n",
              "      <td>1</td>\n",
              "    </tr>\n",
              "  </tbody>\n",
              "</table>\n",
              "<p>2426 rows × 2 columns</p>\n",
              "</div>\n",
              "      <button class=\"colab-df-convert\" onclick=\"convertToInteractive('df-540bdd4f-f02f-4a10-9a9c-0acae859f725')\"\n",
              "              title=\"Convert this dataframe to an interactive table.\"\n",
              "              style=\"display:none;\">\n",
              "        \n",
              "  <svg xmlns=\"http://www.w3.org/2000/svg\" height=\"24px\"viewBox=\"0 0 24 24\"\n",
              "       width=\"24px\">\n",
              "    <path d=\"M0 0h24v24H0V0z\" fill=\"none\"/>\n",
              "    <path d=\"M18.56 5.44l.94 2.06.94-2.06 2.06-.94-2.06-.94-.94-2.06-.94 2.06-2.06.94zm-11 1L8.5 8.5l.94-2.06 2.06-.94-2.06-.94L8.5 2.5l-.94 2.06-2.06.94zm10 10l.94 2.06.94-2.06 2.06-.94-2.06-.94-.94-2.06-.94 2.06-2.06.94z\"/><path d=\"M17.41 7.96l-1.37-1.37c-.4-.4-.92-.59-1.43-.59-.52 0-1.04.2-1.43.59L10.3 9.45l-7.72 7.72c-.78.78-.78 2.05 0 2.83L4 21.41c.39.39.9.59 1.41.59.51 0 1.02-.2 1.41-.59l7.78-7.78 2.81-2.81c.8-.78.8-2.07 0-2.86zM5.41 20L4 18.59l7.72-7.72 1.47 1.35L5.41 20z\"/>\n",
              "  </svg>\n",
              "      </button>\n",
              "      \n",
              "  <style>\n",
              "    .colab-df-container {\n",
              "      display:flex;\n",
              "      flex-wrap:wrap;\n",
              "      gap: 12px;\n",
              "    }\n",
              "\n",
              "    .colab-df-convert {\n",
              "      background-color: #E8F0FE;\n",
              "      border: none;\n",
              "      border-radius: 50%;\n",
              "      cursor: pointer;\n",
              "      display: none;\n",
              "      fill: #1967D2;\n",
              "      height: 32px;\n",
              "      padding: 0 0 0 0;\n",
              "      width: 32px;\n",
              "    }\n",
              "\n",
              "    .colab-df-convert:hover {\n",
              "      background-color: #E2EBFA;\n",
              "      box-shadow: 0px 1px 2px rgba(60, 64, 67, 0.3), 0px 1px 3px 1px rgba(60, 64, 67, 0.15);\n",
              "      fill: #174EA6;\n",
              "    }\n",
              "\n",
              "    [theme=dark] .colab-df-convert {\n",
              "      background-color: #3B4455;\n",
              "      fill: #D2E3FC;\n",
              "    }\n",
              "\n",
              "    [theme=dark] .colab-df-convert:hover {\n",
              "      background-color: #434B5C;\n",
              "      box-shadow: 0px 1px 3px 1px rgba(0, 0, 0, 0.15);\n",
              "      filter: drop-shadow(0px 1px 2px rgba(0, 0, 0, 0.3));\n",
              "      fill: #FFFFFF;\n",
              "    }\n",
              "  </style>\n",
              "\n",
              "      <script>\n",
              "        const buttonEl =\n",
              "          document.querySelector('#df-540bdd4f-f02f-4a10-9a9c-0acae859f725 button.colab-df-convert');\n",
              "        buttonEl.style.display =\n",
              "          google.colab.kernel.accessAllowed ? 'block' : 'none';\n",
              "\n",
              "        async function convertToInteractive(key) {\n",
              "          const element = document.querySelector('#df-540bdd4f-f02f-4a10-9a9c-0acae859f725');\n",
              "          const dataTable =\n",
              "            await google.colab.kernel.invokeFunction('convertToInteractive',\n",
              "                                                     [key], {});\n",
              "          if (!dataTable) return;\n",
              "\n",
              "          const docLinkHtml = 'Like what you see? Visit the ' +\n",
              "            '<a target=\"_blank\" href=https://colab.research.google.com/notebooks/data_table.ipynb>data table notebook</a>'\n",
              "            + ' to learn more about interactive tables.';\n",
              "          element.innerHTML = '';\n",
              "          dataTable['output_type'] = 'display_data';\n",
              "          await google.colab.output.renderOutput(dataTable, element);\n",
              "          const docLink = document.createElement('div');\n",
              "          docLink.innerHTML = docLinkHtml;\n",
              "          element.appendChild(docLink);\n",
              "        }\n",
              "      </script>\n",
              "    </div>\n",
              "  </div>\n",
              "  "
            ],
            "text/plain": [
              "                                                   text  labels\n",
              "0     prophet. =profundo= deep, profound, abysmal; _...       1\n",
              "1     sonrisa con que su primo acogiera tan extraña ...       1\n",
              "2     la inocencia. --Me voy. No deje usted de pasar...       1\n",
              "3     que casi se tocaban cara con cara. «Fortunata....       1\n",
              "4     cuando de ella esté completamente desligada su...       1\n",
              "...                                                 ...     ...\n",
              "2421  distancia, a un hombre que salía de la casa. E...       1\n",
              "2422  antiespasmódica. La he hecho yo mismo, y traig...       1\n",
              "2423  la estudiada actitud bonachona y festiva. Lueg...       1\n",
              "2424  las diez--dijo Villalonga--. Fui al Casino a l...       1\n",
              "2425  Total, que el adverbio debía de ser una cosa m...       1\n",
              "\n",
              "[2426 rows x 2 columns]"
            ]
          },
          "execution_count": 6,
          "metadata": {},
          "output_type": "execute_result"
        }
      ],
      "source": [
        "galdos_df"
      ]
    },
    {
      "cell_type": "code",
      "execution_count": null,
      "metadata": {
        "colab": {
          "base_uri": "https://localhost:8080/",
          "height": 423
        },
        "id": "ZnF9lJV8cYFG",
        "outputId": "eb6de554-69a8-4393-a872-803c5477400c"
      },
      "outputs": [
        {
          "data": {
            "text/html": [
              "\n",
              "  <div id=\"df-c3bf1ce2-7c53-4e75-9306-0c30a3d7f719\">\n",
              "    <div class=\"colab-df-container\">\n",
              "      <div>\n",
              "<style scoped>\n",
              "    .dataframe tbody tr th:only-of-type {\n",
              "        vertical-align: middle;\n",
              "    }\n",
              "\n",
              "    .dataframe tbody tr th {\n",
              "        vertical-align: top;\n",
              "    }\n",
              "\n",
              "    .dataframe thead th {\n",
              "        text-align: right;\n",
              "    }\n",
              "</style>\n",
              "<table border=\"1\" class=\"dataframe\">\n",
              "  <thead>\n",
              "    <tr style=\"text-align: right;\">\n",
              "      <th></th>\n",
              "      <th>text</th>\n",
              "      <th>labels</th>\n",
              "    </tr>\n",
              "  </thead>\n",
              "  <tbody>\n",
              "    <tr>\n",
              "      <th>0</th>\n",
              "      <td>sus imágenes predilectas, una Nuestra Señora d...</td>\n",
              "      <td>0</td>\n",
              "    </tr>\n",
              "    <tr>\n",
              "      <th>1</th>\n",
              "      <td>de las piedras... Se le ha de acordar cada vez...</td>\n",
              "      <td>0</td>\n",
              "    </tr>\n",
              "    <tr>\n",
              "      <th>2</th>\n",
              "      <td>las diez y seis primeritas fui yo que aquí tra...</td>\n",
              "      <td>0</td>\n",
              "    </tr>\n",
              "    <tr>\n",
              "      <th>3</th>\n",
              "      <td>tranvÃ­a de Atocha, acerqueme a ella con rapid...</td>\n",
              "      <td>0</td>\n",
              "    </tr>\n",
              "    <tr>\n",
              "      <th>4</th>\n",
              "      <td>seÃ±or, todo eso es Ã³ptimo, y muy meritorio y...</td>\n",
              "      <td>0</td>\n",
              "    </tr>\n",
              "    <tr>\n",
              "      <th>...</th>\n",
              "      <td>...</td>\n",
              "      <td>...</td>\n",
              "    </tr>\n",
              "    <tr>\n",
              "      <th>863</th>\n",
              "      <td>que no corren, que vuelven al punto Ã¡ sumirse...</td>\n",
              "      <td>0</td>\n",
              "    </tr>\n",
              "    <tr>\n",
              "      <th>864</th>\n",
              "      <td>huertos, o en el desierto camino del cerro de ...</td>\n",
              "      <td>0</td>\n",
              "    </tr>\n",
              "    <tr>\n",
              "      <th>865</th>\n",
              "      <td>nombres siquiera! Toma mi consejo. Insisto en ...</td>\n",
              "      <td>0</td>\n",
              "    </tr>\n",
              "    <tr>\n",
              "      <th>866</th>\n",
              "      <td>hermosura de Manolita. Â¡Manolita! Manolita sÃ...</td>\n",
              "      <td>0</td>\n",
              "    </tr>\n",
              "    <tr>\n",
              "      <th>867</th>\n",
              "      <td>amigas de confianza, mientras todas cuatro, ju...</td>\n",
              "      <td>0</td>\n",
              "    </tr>\n",
              "  </tbody>\n",
              "</table>\n",
              "<p>868 rows × 2 columns</p>\n",
              "</div>\n",
              "      <button class=\"colab-df-convert\" onclick=\"convertToInteractive('df-c3bf1ce2-7c53-4e75-9306-0c30a3d7f719')\"\n",
              "              title=\"Convert this dataframe to an interactive table.\"\n",
              "              style=\"display:none;\">\n",
              "        \n",
              "  <svg xmlns=\"http://www.w3.org/2000/svg\" height=\"24px\"viewBox=\"0 0 24 24\"\n",
              "       width=\"24px\">\n",
              "    <path d=\"M0 0h24v24H0V0z\" fill=\"none\"/>\n",
              "    <path d=\"M18.56 5.44l.94 2.06.94-2.06 2.06-.94-2.06-.94-.94-2.06-.94 2.06-2.06.94zm-11 1L8.5 8.5l.94-2.06 2.06-.94-2.06-.94L8.5 2.5l-.94 2.06-2.06.94zm10 10l.94 2.06.94-2.06 2.06-.94-2.06-.94-.94-2.06-.94 2.06-2.06.94z\"/><path d=\"M17.41 7.96l-1.37-1.37c-.4-.4-.92-.59-1.43-.59-.52 0-1.04.2-1.43.59L10.3 9.45l-7.72 7.72c-.78.78-.78 2.05 0 2.83L4 21.41c.39.39.9.59 1.41.59.51 0 1.02-.2 1.41-.59l7.78-7.78 2.81-2.81c.8-.78.8-2.07 0-2.86zM5.41 20L4 18.59l7.72-7.72 1.47 1.35L5.41 20z\"/>\n",
              "  </svg>\n",
              "      </button>\n",
              "      \n",
              "  <style>\n",
              "    .colab-df-container {\n",
              "      display:flex;\n",
              "      flex-wrap:wrap;\n",
              "      gap: 12px;\n",
              "    }\n",
              "\n",
              "    .colab-df-convert {\n",
              "      background-color: #E8F0FE;\n",
              "      border: none;\n",
              "      border-radius: 50%;\n",
              "      cursor: pointer;\n",
              "      display: none;\n",
              "      fill: #1967D2;\n",
              "      height: 32px;\n",
              "      padding: 0 0 0 0;\n",
              "      width: 32px;\n",
              "    }\n",
              "\n",
              "    .colab-df-convert:hover {\n",
              "      background-color: #E2EBFA;\n",
              "      box-shadow: 0px 1px 2px rgba(60, 64, 67, 0.3), 0px 1px 3px 1px rgba(60, 64, 67, 0.15);\n",
              "      fill: #174EA6;\n",
              "    }\n",
              "\n",
              "    [theme=dark] .colab-df-convert {\n",
              "      background-color: #3B4455;\n",
              "      fill: #D2E3FC;\n",
              "    }\n",
              "\n",
              "    [theme=dark] .colab-df-convert:hover {\n",
              "      background-color: #434B5C;\n",
              "      box-shadow: 0px 1px 3px 1px rgba(0, 0, 0, 0.15);\n",
              "      filter: drop-shadow(0px 1px 2px rgba(0, 0, 0, 0.3));\n",
              "      fill: #FFFFFF;\n",
              "    }\n",
              "  </style>\n",
              "\n",
              "      <script>\n",
              "        const buttonEl =\n",
              "          document.querySelector('#df-c3bf1ce2-7c53-4e75-9306-0c30a3d7f719 button.colab-df-convert');\n",
              "        buttonEl.style.display =\n",
              "          google.colab.kernel.accessAllowed ? 'block' : 'none';\n",
              "\n",
              "        async function convertToInteractive(key) {\n",
              "          const element = document.querySelector('#df-c3bf1ce2-7c53-4e75-9306-0c30a3d7f719');\n",
              "          const dataTable =\n",
              "            await google.colab.kernel.invokeFunction('convertToInteractive',\n",
              "                                                     [key], {});\n",
              "          if (!dataTable) return;\n",
              "\n",
              "          const docLinkHtml = 'Like what you see? Visit the ' +\n",
              "            '<a target=\"_blank\" href=https://colab.research.google.com/notebooks/data_table.ipynb>data table notebook</a>'\n",
              "            + ' to learn more about interactive tables.';\n",
              "          element.innerHTML = '';\n",
              "          dataTable['output_type'] = 'display_data';\n",
              "          await google.colab.output.renderOutput(dataTable, element);\n",
              "          const docLink = document.createElement('div');\n",
              "          docLink.innerHTML = docLinkHtml;\n",
              "          element.appendChild(docLink);\n",
              "        }\n",
              "      </script>\n",
              "    </div>\n",
              "  </div>\n",
              "  "
            ],
            "text/plain": [
              "                                                  text  labels\n",
              "0    sus imágenes predilectas, una Nuestra Señora d...       0\n",
              "1    de las piedras... Se le ha de acordar cada vez...       0\n",
              "2    las diez y seis primeritas fui yo que aquí tra...       0\n",
              "3    tranvÃ­a de Atocha, acerqueme a ella con rapid...       0\n",
              "4    seÃ±or, todo eso es Ã³ptimo, y muy meritorio y...       0\n",
              "..                                                 ...     ...\n",
              "863  que no corren, que vuelven al punto Ã¡ sumirse...       0\n",
              "864  huertos, o en el desierto camino del cerro de ...       0\n",
              "865  nombres siquiera! Toma mi consejo. Insisto en ...       0\n",
              "866  hermosura de Manolita. Â¡Manolita! Manolita sÃ...       0\n",
              "867  amigas de confianza, mientras todas cuatro, ju...       0\n",
              "\n",
              "[868 rows x 2 columns]"
            ]
          },
          "execution_count": 7,
          "metadata": {},
          "output_type": "execute_result"
        }
      ],
      "source": [
        "bazan_df"
      ]
    },
    {
      "cell_type": "markdown",
      "metadata": {
        "id": "rLeq3F2Nio45"
      },
      "source": [
        "## División de los datasets"
      ]
    },
    {
      "cell_type": "code",
      "execution_count": null,
      "metadata": {
        "colab": {
          "base_uri": "https://localhost:8080/",
          "height": 423
        },
        "id": "GMUyR7AWoPWo",
        "outputId": "f0cd4cad-9e0d-471d-fdbe-7e0d97af2861"
      },
      "outputs": [
        {
          "data": {
            "text/html": [
              "\n",
              "  <div id=\"df-21642239-1132-453d-9219-23d6519a9af4\">\n",
              "    <div class=\"colab-df-container\">\n",
              "      <div>\n",
              "<style scoped>\n",
              "    .dataframe tbody tr th:only-of-type {\n",
              "        vertical-align: middle;\n",
              "    }\n",
              "\n",
              "    .dataframe tbody tr th {\n",
              "        vertical-align: top;\n",
              "    }\n",
              "\n",
              "    .dataframe thead th {\n",
              "        text-align: right;\n",
              "    }\n",
              "</style>\n",
              "<table border=\"1\" class=\"dataframe\">\n",
              "  <thead>\n",
              "    <tr style=\"text-align: right;\">\n",
              "      <th></th>\n",
              "      <th>text</th>\n",
              "      <th>labels</th>\n",
              "    </tr>\n",
              "  </thead>\n",
              "  <tbody>\n",
              "    <tr>\n",
              "      <th>0</th>\n",
              "      <td>sus quejas acaloran a los descontentos y azuza...</td>\n",
              "      <td>1</td>\n",
              "    </tr>\n",
              "    <tr>\n",
              "      <th>1</th>\n",
              "      <td>no se mostró enojada, sino antes bien gozosa, ...</td>\n",
              "      <td>1</td>\n",
              "    </tr>\n",
              "    <tr>\n",
              "      <th>2</th>\n",
              "      <td>Porque ahora sus baterÃ­as se dirigen Ã¡ que d...</td>\n",
              "      <td>0</td>\n",
              "    </tr>\n",
              "    <tr>\n",
              "      <th>3</th>\n",
              "      <td>de petróleo. A las niñas que debían salir al p...</td>\n",
              "      <td>1</td>\n",
              "    </tr>\n",
              "    <tr>\n",
              "      <th>4</th>\n",
              "      <td>Como antes se ha dicho, a los pocos días de la...</td>\n",
              "      <td>1</td>\n",
              "    </tr>\n",
              "    <tr>\n",
              "      <th>...</th>\n",
              "      <td>...</td>\n",
              "      <td>...</td>\n",
              "    </tr>\n",
              "    <tr>\n",
              "      <th>653</th>\n",
              "      <td>suponÃ­a no sosiego; les dejarÃ­a campando en ...</td>\n",
              "      <td>0</td>\n",
              "    </tr>\n",
              "    <tr>\n",
              "      <th>654</th>\n",
              "      <td>ahora mismo...». Sus manos revolvieron temblor...</td>\n",
              "      <td>1</td>\n",
              "    </tr>\n",
              "    <tr>\n",
              "      <th>655</th>\n",
              "      <td>danzas_ que podían costarle caras. Dígase lo q...</td>\n",
              "      <td>1</td>\n",
              "    </tr>\n",
              "    <tr>\n",
              "      <th>656</th>\n",
              "      <td>las teclas como si las quisiera castigar por a...</td>\n",
              "      <td>1</td>\n",
              "    </tr>\n",
              "    <tr>\n",
              "      <th>657</th>\n",
              "      <td>del arranque del pelo, Ãºnica parte que descub...</td>\n",
              "      <td>0</td>\n",
              "    </tr>\n",
              "  </tbody>\n",
              "</table>\n",
              "<p>658 rows × 2 columns</p>\n",
              "</div>\n",
              "      <button class=\"colab-df-convert\" onclick=\"convertToInteractive('df-21642239-1132-453d-9219-23d6519a9af4')\"\n",
              "              title=\"Convert this dataframe to an interactive table.\"\n",
              "              style=\"display:none;\">\n",
              "        \n",
              "  <svg xmlns=\"http://www.w3.org/2000/svg\" height=\"24px\"viewBox=\"0 0 24 24\"\n",
              "       width=\"24px\">\n",
              "    <path d=\"M0 0h24v24H0V0z\" fill=\"none\"/>\n",
              "    <path d=\"M18.56 5.44l.94 2.06.94-2.06 2.06-.94-2.06-.94-.94-2.06-.94 2.06-2.06.94zm-11 1L8.5 8.5l.94-2.06 2.06-.94-2.06-.94L8.5 2.5l-.94 2.06-2.06.94zm10 10l.94 2.06.94-2.06 2.06-.94-2.06-.94-.94-2.06-.94 2.06-2.06.94z\"/><path d=\"M17.41 7.96l-1.37-1.37c-.4-.4-.92-.59-1.43-.59-.52 0-1.04.2-1.43.59L10.3 9.45l-7.72 7.72c-.78.78-.78 2.05 0 2.83L4 21.41c.39.39.9.59 1.41.59.51 0 1.02-.2 1.41-.59l7.78-7.78 2.81-2.81c.8-.78.8-2.07 0-2.86zM5.41 20L4 18.59l7.72-7.72 1.47 1.35L5.41 20z\"/>\n",
              "  </svg>\n",
              "      </button>\n",
              "      \n",
              "  <style>\n",
              "    .colab-df-container {\n",
              "      display:flex;\n",
              "      flex-wrap:wrap;\n",
              "      gap: 12px;\n",
              "    }\n",
              "\n",
              "    .colab-df-convert {\n",
              "      background-color: #E8F0FE;\n",
              "      border: none;\n",
              "      border-radius: 50%;\n",
              "      cursor: pointer;\n",
              "      display: none;\n",
              "      fill: #1967D2;\n",
              "      height: 32px;\n",
              "      padding: 0 0 0 0;\n",
              "      width: 32px;\n",
              "    }\n",
              "\n",
              "    .colab-df-convert:hover {\n",
              "      background-color: #E2EBFA;\n",
              "      box-shadow: 0px 1px 2px rgba(60, 64, 67, 0.3), 0px 1px 3px 1px rgba(60, 64, 67, 0.15);\n",
              "      fill: #174EA6;\n",
              "    }\n",
              "\n",
              "    [theme=dark] .colab-df-convert {\n",
              "      background-color: #3B4455;\n",
              "      fill: #D2E3FC;\n",
              "    }\n",
              "\n",
              "    [theme=dark] .colab-df-convert:hover {\n",
              "      background-color: #434B5C;\n",
              "      box-shadow: 0px 1px 3px 1px rgba(0, 0, 0, 0.15);\n",
              "      filter: drop-shadow(0px 1px 2px rgba(0, 0, 0, 0.3));\n",
              "      fill: #FFFFFF;\n",
              "    }\n",
              "  </style>\n",
              "\n",
              "      <script>\n",
              "        const buttonEl =\n",
              "          document.querySelector('#df-21642239-1132-453d-9219-23d6519a9af4 button.colab-df-convert');\n",
              "        buttonEl.style.display =\n",
              "          google.colab.kernel.accessAllowed ? 'block' : 'none';\n",
              "\n",
              "        async function convertToInteractive(key) {\n",
              "          const element = document.querySelector('#df-21642239-1132-453d-9219-23d6519a9af4');\n",
              "          const dataTable =\n",
              "            await google.colab.kernel.invokeFunction('convertToInteractive',\n",
              "                                                     [key], {});\n",
              "          if (!dataTable) return;\n",
              "\n",
              "          const docLinkHtml = 'Like what you see? Visit the ' +\n",
              "            '<a target=\"_blank\" href=https://colab.research.google.com/notebooks/data_table.ipynb>data table notebook</a>'\n",
              "            + ' to learn more about interactive tables.';\n",
              "          element.innerHTML = '';\n",
              "          dataTable['output_type'] = 'display_data';\n",
              "          await google.colab.output.renderOutput(dataTable, element);\n",
              "          const docLink = document.createElement('div');\n",
              "          docLink.innerHTML = docLinkHtml;\n",
              "          element.appendChild(docLink);\n",
              "        }\n",
              "      </script>\n",
              "    </div>\n",
              "  </div>\n",
              "  "
            ],
            "text/plain": [
              "                                                  text  labels\n",
              "0    sus quejas acaloran a los descontentos y azuza...       1\n",
              "1    no se mostró enojada, sino antes bien gozosa, ...       1\n",
              "2    Porque ahora sus baterÃ­as se dirigen Ã¡ que d...       0\n",
              "3    de petróleo. A las niñas que debían salir al p...       1\n",
              "4    Como antes se ha dicho, a los pocos días de la...       1\n",
              "..                                                 ...     ...\n",
              "653  suponÃ­a no sosiego; les dejarÃ­a campando en ...       0\n",
              "654  ahora mismo...». Sus manos revolvieron temblor...       1\n",
              "655  danzas_ que podían costarle caras. Dígase lo q...       1\n",
              "656  las teclas como si las quisiera castigar por a...       1\n",
              "657  del arranque del pelo, Ãºnica parte que descub...       0\n",
              "\n",
              "[658 rows x 2 columns]"
            ]
          },
          "execution_count": 8,
          "metadata": {},
          "output_type": "execute_result"
        }
      ],
      "source": [
        "train_df = pd.concat(\n",
        "    [galdos_df[:int(galdos_len*.2)], bazan_df[:int(bazan_len*.2)]],\n",
        "    ignore_index=True\n",
        ").sample(frac=1).reset_index(drop=True)\n",
        "\n",
        "train_df"
      ]
    },
    {
      "cell_type": "code",
      "execution_count": null,
      "metadata": {
        "colab": {
          "base_uri": "https://localhost:8080/",
          "height": 423
        },
        "id": "RWvNR1kuXIve",
        "outputId": "f286655a-58f7-4e9a-c8ae-b5e9baa2b462"
      },
      "outputs": [
        {
          "data": {
            "text/html": [
              "\n",
              "  <div id=\"df-1d00c6bd-59cc-4e55-aae3-76d6eab6a2ef\">\n",
              "    <div class=\"colab-df-container\">\n",
              "      <div>\n",
              "<style scoped>\n",
              "    .dataframe tbody tr th:only-of-type {\n",
              "        vertical-align: middle;\n",
              "    }\n",
              "\n",
              "    .dataframe tbody tr th {\n",
              "        vertical-align: top;\n",
              "    }\n",
              "\n",
              "    .dataframe thead th {\n",
              "        text-align: right;\n",
              "    }\n",
              "</style>\n",
              "<table border=\"1\" class=\"dataframe\">\n",
              "  <thead>\n",
              "    <tr style=\"text-align: right;\">\n",
              "      <th></th>\n",
              "      <th>text</th>\n",
              "      <th>labels</th>\n",
              "    </tr>\n",
              "  </thead>\n",
              "  <tbody>\n",
              "    <tr>\n",
              "      <th>0</th>\n",
              "      <td>su diploma, pero no colocado todavÃ­a, no se h...</td>\n",
              "      <td>0</td>\n",
              "    </tr>\n",
              "    <tr>\n",
              "      <th>1</th>\n",
              "      <td>la cara de Pantoja, la de Cucúrbitas y la del ...</td>\n",
              "      <td>1</td>\n",
              "    </tr>\n",
              "    <tr>\n",
              "      <th>2</th>\n",
              "      <td>si sé yo hacer las cosas y me intereso por ti-...</td>\n",
              "      <td>1</td>\n",
              "    </tr>\n",
              "    <tr>\n",
              "      <th>3</th>\n",
              "      <td>su domicilio. El ser _todas de piedra_, desde ...</td>\n",
              "      <td>1</td>\n",
              "    </tr>\n",
              "    <tr>\n",
              "      <th>4</th>\n",
              "      <td>penachillo de espuma que Ã¡ cada losa ponÃ­a e...</td>\n",
              "      <td>0</td>\n",
              "    </tr>\n",
              "    <tr>\n",
              "      <th>...</th>\n",
              "      <td>...</td>\n",
              "      <td>...</td>\n",
              "    </tr>\n",
              "    <tr>\n",
              "      <th>655</th>\n",
              "      <td>guardarlo con llave en un baúl lleno de cosas ...</td>\n",
              "      <td>1</td>\n",
              "    </tr>\n",
              "    <tr>\n",
              "      <th>656</th>\n",
              "      <td>alegre, cómoda y de un aseo sorprendente. Fina...</td>\n",
              "      <td>1</td>\n",
              "    </tr>\n",
              "    <tr>\n",
              "      <th>657</th>\n",
              "      <td>las redondeces futuras apuntaban ya, tenÃ­a al...</td>\n",
              "      <td>0</td>\n",
              "    </tr>\n",
              "    <tr>\n",
              "      <th>658</th>\n",
              "      <td>revoloteÃ³ un momento, diÃ³ contra los cristal...</td>\n",
              "      <td>0</td>\n",
              "    </tr>\n",
              "    <tr>\n",
              "      <th>659</th>\n",
              "      <td>represent it by something useful that puns wit...</td>\n",
              "      <td>1</td>\n",
              "    </tr>\n",
              "  </tbody>\n",
              "</table>\n",
              "<p>660 rows × 2 columns</p>\n",
              "</div>\n",
              "      <button class=\"colab-df-convert\" onclick=\"convertToInteractive('df-1d00c6bd-59cc-4e55-aae3-76d6eab6a2ef')\"\n",
              "              title=\"Convert this dataframe to an interactive table.\"\n",
              "              style=\"display:none;\">\n",
              "        \n",
              "  <svg xmlns=\"http://www.w3.org/2000/svg\" height=\"24px\"viewBox=\"0 0 24 24\"\n",
              "       width=\"24px\">\n",
              "    <path d=\"M0 0h24v24H0V0z\" fill=\"none\"/>\n",
              "    <path d=\"M18.56 5.44l.94 2.06.94-2.06 2.06-.94-2.06-.94-.94-2.06-.94 2.06-2.06.94zm-11 1L8.5 8.5l.94-2.06 2.06-.94-2.06-.94L8.5 2.5l-.94 2.06-2.06.94zm10 10l.94 2.06.94-2.06 2.06-.94-2.06-.94-.94-2.06-.94 2.06-2.06.94z\"/><path d=\"M17.41 7.96l-1.37-1.37c-.4-.4-.92-.59-1.43-.59-.52 0-1.04.2-1.43.59L10.3 9.45l-7.72 7.72c-.78.78-.78 2.05 0 2.83L4 21.41c.39.39.9.59 1.41.59.51 0 1.02-.2 1.41-.59l7.78-7.78 2.81-2.81c.8-.78.8-2.07 0-2.86zM5.41 20L4 18.59l7.72-7.72 1.47 1.35L5.41 20z\"/>\n",
              "  </svg>\n",
              "      </button>\n",
              "      \n",
              "  <style>\n",
              "    .colab-df-container {\n",
              "      display:flex;\n",
              "      flex-wrap:wrap;\n",
              "      gap: 12px;\n",
              "    }\n",
              "\n",
              "    .colab-df-convert {\n",
              "      background-color: #E8F0FE;\n",
              "      border: none;\n",
              "      border-radius: 50%;\n",
              "      cursor: pointer;\n",
              "      display: none;\n",
              "      fill: #1967D2;\n",
              "      height: 32px;\n",
              "      padding: 0 0 0 0;\n",
              "      width: 32px;\n",
              "    }\n",
              "\n",
              "    .colab-df-convert:hover {\n",
              "      background-color: #E2EBFA;\n",
              "      box-shadow: 0px 1px 2px rgba(60, 64, 67, 0.3), 0px 1px 3px 1px rgba(60, 64, 67, 0.15);\n",
              "      fill: #174EA6;\n",
              "    }\n",
              "\n",
              "    [theme=dark] .colab-df-convert {\n",
              "      background-color: #3B4455;\n",
              "      fill: #D2E3FC;\n",
              "    }\n",
              "\n",
              "    [theme=dark] .colab-df-convert:hover {\n",
              "      background-color: #434B5C;\n",
              "      box-shadow: 0px 1px 3px 1px rgba(0, 0, 0, 0.15);\n",
              "      filter: drop-shadow(0px 1px 2px rgba(0, 0, 0, 0.3));\n",
              "      fill: #FFFFFF;\n",
              "    }\n",
              "  </style>\n",
              "\n",
              "      <script>\n",
              "        const buttonEl =\n",
              "          document.querySelector('#df-1d00c6bd-59cc-4e55-aae3-76d6eab6a2ef button.colab-df-convert');\n",
              "        buttonEl.style.display =\n",
              "          google.colab.kernel.accessAllowed ? 'block' : 'none';\n",
              "\n",
              "        async function convertToInteractive(key) {\n",
              "          const element = document.querySelector('#df-1d00c6bd-59cc-4e55-aae3-76d6eab6a2ef');\n",
              "          const dataTable =\n",
              "            await google.colab.kernel.invokeFunction('convertToInteractive',\n",
              "                                                     [key], {});\n",
              "          if (!dataTable) return;\n",
              "\n",
              "          const docLinkHtml = 'Like what you see? Visit the ' +\n",
              "            '<a target=\"_blank\" href=https://colab.research.google.com/notebooks/data_table.ipynb>data table notebook</a>'\n",
              "            + ' to learn more about interactive tables.';\n",
              "          element.innerHTML = '';\n",
              "          dataTable['output_type'] = 'display_data';\n",
              "          await google.colab.output.renderOutput(dataTable, element);\n",
              "          const docLink = document.createElement('div');\n",
              "          docLink.innerHTML = docLinkHtml;\n",
              "          element.appendChild(docLink);\n",
              "        }\n",
              "      </script>\n",
              "    </div>\n",
              "  </div>\n",
              "  "
            ],
            "text/plain": [
              "                                                  text  labels\n",
              "0    su diploma, pero no colocado todavÃ­a, no se h...       0\n",
              "1    la cara de Pantoja, la de Cucúrbitas y la del ...       1\n",
              "2    si sé yo hacer las cosas y me intereso por ti-...       1\n",
              "3    su domicilio. El ser _todas de piedra_, desde ...       1\n",
              "4    penachillo de espuma que Ã¡ cada losa ponÃ­a e...       0\n",
              "..                                                 ...     ...\n",
              "655  guardarlo con llave en un baúl lleno de cosas ...       1\n",
              "656  alegre, cómoda y de un aseo sorprendente. Fina...       1\n",
              "657  las redondeces futuras apuntaban ya, tenÃ­a al...       0\n",
              "658  revoloteÃ³ un momento, diÃ³ contra los cristal...       0\n",
              "659  represent it by something useful that puns wit...       1\n",
              "\n",
              "[660 rows x 2 columns]"
            ]
          },
          "execution_count": 9,
          "metadata": {},
          "output_type": "execute_result"
        }
      ],
      "source": [
        "eval_df = pd.concat(\n",
        "    [galdos_df[int(galdos_len*.8):], bazan_df[int(bazan_len*.8):]],\n",
        "    ignore_index=True\n",
        ").sample(frac=1).reset_index(drop=True)\n",
        "\n",
        "eval_df"
      ]
    },
    {
      "cell_type": "code",
      "execution_count": null,
      "metadata": {
        "colab": {
          "base_uri": "https://localhost:8080/"
        },
        "id": "G8v6IJ5achjB",
        "outputId": "e21775ee-abc3-420f-9acb-e89757072644"
      },
      "outputs": [
        {
          "data": {
            "text/plain": [
              "1    485\n",
              "0    173\n",
              "Name: labels, dtype: int64"
            ]
          },
          "execution_count": 10,
          "metadata": {},
          "output_type": "execute_result"
        }
      ],
      "source": [
        "train_df['labels'].value_counts()"
      ]
    },
    {
      "cell_type": "code",
      "execution_count": null,
      "metadata": {
        "colab": {
          "base_uri": "https://localhost:8080/"
        },
        "id": "Ghwa3Ujscp3c",
        "outputId": "b60ba4c6-ee13-451e-b3cb-f107f4007372"
      },
      "outputs": [
        {
          "data": {
            "text/plain": [
              "1    486\n",
              "0    174\n",
              "Name: labels, dtype: int64"
            ]
          },
          "execution_count": 11,
          "metadata": {},
          "output_type": "execute_result"
        }
      ],
      "source": [
        "eval_df['labels'].value_counts()"
      ]
    },
    {
      "cell_type": "markdown",
      "metadata": {
        "id": "dXEhG1O_NDKg"
      },
      "source": [
        "## Definimos algunos parámetros de la red"
      ]
    },
    {
      "cell_type": "markdown",
      "metadata": {
        "id": "5nXDZMV0c-Ls"
      },
      "source": [
        " - vocab_size = cómo de largo queremos que sea nuestro vocabulario. Si es demasiado corto, el rendimiento de la red sería muy pobre pues habría muchos tokens desconocidos. Si es demasiado grande, nuestra red tardará más en entrenar.\n",
        "\n",
        " - embedding_dim: Este parámetro nos dice cómo de grandes queremos que sean los vectores que representan cada palabra de nuestro vocabulario. Normalmente, cuanto más grandes sean, mayor 'calidad' en la representación de las mismas.\n",
        "\n",
        " - max_length: Debemos definir una longitud máxima de secuencia puesto que nuestra red espera que todas tenga la misma longitud. En nuestro caso, como partimos el dataset en secuencias de 250 palabras, usaremos ese valor.\n",
        "\n",
        " - trunc_type: si una secuencia es más larga de 250 palabras la cortamos por detrás (post).\n",
        "\n",
        "- padding_type = nos dice que en caso de que la secuencia se más corta de 250 tokens en qué parte de ésta se añade los tokens de padding (post = al final).\n",
        "\n",
        "- oov_tok = `<OOV>` da un valor a las palabras/tokens que estén fuera de esas 5000 como máximo que hemos definido para nuestro vocabulario.\n"
      ]
    },
    {
      "cell_type": "code",
      "execution_count": null,
      "metadata": {
        "id": "yeN5zad3djSj"
      },
      "outputs": [],
      "source": [
        "vocab_size = 5000\n",
        "embedding_dim = 64\n",
        "max_length = 250\n",
        "trunc_type = 'post'\n",
        "padding_type = 'post'\n",
        "oov_tok = '<OOV>'"
      ]
    },
    {
      "cell_type": "code",
      "execution_count": null,
      "metadata": {
        "colab": {
          "base_uri": "https://localhost:8080/"
        },
        "id": "SSipg3irNLoc",
        "outputId": "25a3966f-cea3-4ea0-b16d-6f3b0d87301c"
      },
      "outputs": [
        {
          "name": "stdout",
          "output_type": "stream",
          "text": [
            "658\n",
            "658\n",
            "660\n",
            "660\n"
          ]
        }
      ],
      "source": [
        "train_articles = train_df['text'].tolist()\n",
        "train_labels = train_df['labels'].tolist()\n",
        "\n",
        "validation_articles = eval_df['text'].tolist()\n",
        "validation_labels = eval_df['labels'].tolist()\n",
        "\n",
        "print(len(train_articles))\n",
        "print(len(train_labels))\n",
        "print(len(validation_articles))\n",
        "print(len(validation_labels))"
      ]
    },
    {
      "cell_type": "markdown",
      "metadata": {
        "id": "L3FVSkGNNbeD"
      },
      "source": [
        "## Creamos el Tokenizer"
      ]
    },
    {
      "cell_type": "markdown",
      "metadata": {
        "id": "zodihNvZfHnA"
      },
      "source": [
        "Le vamos a decir cuál es el número máximo de palabras, el token para palabras que no estén en el vocabulario y que las pase minúsculas para reducir el tamaño del mismo"
      ]
    },
    {
      "cell_type": "code",
      "execution_count": null,
      "metadata": {
        "colab": {
          "base_uri": "https://localhost:8080/"
        },
        "id": "KFotUWa4NeB-",
        "outputId": "bb77fb6a-7aa0-4c4b-f619-6d77dd69a8fe"
      },
      "outputs": [
        {
          "data": {
            "text/plain": [
              "{'<OOV>': 1,\n",
              " 'a': 7,\n",
              " 'de': 2,\n",
              " 'el': 6,\n",
              " 'en': 8,\n",
              " 'la': 4,\n",
              " 'no': 9,\n",
              " 'que': 3,\n",
              " 'se': 10,\n",
              " 'y': 5}"
            ]
          },
          "execution_count": 14,
          "metadata": {},
          "output_type": "execute_result"
        }
      ],
      "source": [
        "tokenizer = Tokenizer(num_words = vocab_size, oov_token=oov_tok, lower=True)\n",
        "tokenizer.fit_on_texts(train_articles)\n",
        "word_index = tokenizer.word_index\n",
        "dict(list(word_index.items())[0:10])"
      ]
    },
    {
      "cell_type": "markdown",
      "metadata": {
        "id": "q2IrSCgpfY7h"
      },
      "source": [
        "No hemos filtrado las `STOPWORDS` pero se podría."
      ]
    },
    {
      "cell_type": "markdown",
      "metadata": {
        "id": "J-euGB85fiyI"
      },
      "source": [
        "Tokenizamos nuestro dataset de entrenamiento una vez que ya tenemos nuestro vocabulario listo."
      ]
    },
    {
      "cell_type": "code",
      "execution_count": null,
      "metadata": {
        "colab": {
          "base_uri": "https://localhost:8080/"
        },
        "id": "BwEuNYqHNkNQ",
        "outputId": "491f6555-df7a-4e25-ae7a-c7b0ec4ba613"
      },
      "outputs": [
        {
          "name": "stdout",
          "output_type": "stream",
          "text": [
            "[4481, 91, 867, 9, 159, 48, 1, 52, 1, 1, 231, 7, 503, 5, 568, 427, 57, 25, 6, 1, 427, 4, 1, 3, 1, 1, 503, 14, 1, 2, 4, 873, 5, 460, 1, 1, 31, 2042, 3, 128, 1, 17, 316, 23, 3, 10, 3441, 2, 330, 22, 1, 2, 4, 1137, 5, 3, 15, 37, 1, 3, 4482, 14, 3, 17, 2784, 9, 1, 645, 1, 178, 7, 3442, 7, 4, 160, 375, 231, 80, 2007, 829, 4483, 47, 2, 4, 131, 216, 830, 1138, 11, 1, 359, 2331, 352, 4, 3, 10, 1, 8, 353, 1214, 4, 131, 216, 3443, 3444, 925, 14, 1788, 917, 1, 15, 4, 2785, 1, 2, 35, 1, 1, 8, 1595, 3445, 1, 4, 257, 2, 12, 2361, 309, 4484, 1, 5, 4485, 277, 4486, 1, 1, 253, 8, 17, 27, 4487, 5, 70, 14, 1, 6, 708, 21, 1, 21, 4488, 1, 3446, 231, 10, 1596, 389, 4, 47, 2, 12, 1, 31, 1789, 2, 162, 3447, 11, 60, 1, 2043, 37, 1, 5, 160, 1, 8, 4, 122, 10, 1, 4, 117, 2, 3448, 21, 1, 5, 91, 6, 623, 5, 4, 1323, 1, 10, 2786, 49, 1, 49, 1, 2, 16, 1438, 622, 4489, 49, 2362, 7, 12, 4490, 49, 1, 21, 743, 2, 35, 1, 1, 3, 4, 873, 477, 4491, 1, 8, 4, 366, 5, 1, 1, 2, 1, 1790, 478, 3, 15, 27, 3, 10, 1, 161, 22, 444, 21, 1, 2787, 9, 624, 1, 40, 1]\n"
          ]
        }
      ],
      "source": [
        "train_sequences = tokenizer.texts_to_sequences(train_articles)\n",
        "print(train_sequences[10])"
      ]
    },
    {
      "cell_type": "markdown",
      "metadata": {
        "id": "Q2J2jAD_ftOe"
      },
      "source": [
        "Aplicamos padding a nuestras secuencias de entrenamientoi para que todas tengan la misma longitud (para este dataset no es neceario porque las dividimos con la misma longitud, pero en otros casos suele ser útil)."
      ]
    },
    {
      "cell_type": "code",
      "execution_count": null,
      "metadata": {
        "colab": {
          "base_uri": "https://localhost:8080/"
        },
        "id": "u4UbbghkNlfg",
        "outputId": "254de4ab-b8a5-464f-efb5-8f637f25b941"
      },
      "outputs": [
        {
          "name": "stdout",
          "output_type": "stream",
          "text": [
            "253\n",
            "250\n",
            "251\n",
            "250\n",
            "252\n",
            "250\n"
          ]
        }
      ],
      "source": [
        "train_padded = pad_sequences(train_sequences, maxlen=max_length, padding=padding_type, truncating=trunc_type)\n",
        "print(len(train_sequences[0]))\n",
        "print(len(train_padded[0]))\n",
        "\n",
        "print(len(train_sequences[1]))\n",
        "print(len(train_padded[1]))\n",
        "\n",
        "print(len(train_sequences[10]))\n",
        "print(len(train_padded[10]))"
      ]
    },
    {
      "cell_type": "code",
      "execution_count": null,
      "metadata": {
        "colab": {
          "base_uri": "https://localhost:8080/"
        },
        "id": "UCRWM1asJX9A",
        "outputId": "5863850d-6337-41e3-b04a-00e003eb860b"
      },
      "outputs": [
        {
          "name": "stdout",
          "output_type": "stream",
          "text": [
            "[4481   91  867    9  159   48    1   52    1    1  231    7  503    5\n",
            "  568  427   57   25    6    1  427    4    1    3    1    1  503   14\n",
            "    1    2    4  873    5  460    1    1   31 2042    3  128    1   17\n",
            "  316   23    3   10 3441    2  330   22    1    2    4 1137    5    3\n",
            "   15   37    1    3 4482   14    3   17 2784    9    1  645    1  178\n",
            "    7 3442    7    4  160  375  231   80 2007  829 4483   47    2    4\n",
            "  131  216  830 1138   11    1  359 2331  352    4    3   10    1    8\n",
            "  353 1214    4  131  216 3443 3444  925   14 1788  917    1   15    4\n",
            " 2785    1    2   35    1    1    8 1595 3445    1    4  257    2   12\n",
            " 2361  309 4484    1    5 4485  277 4486    1    1  253    8   17   27\n",
            " 4487    5   70   14    1    6  708   21    1   21 4488    1 3446  231\n",
            "   10 1596  389    4   47    2   12    1   31 1789    2  162 3447   11\n",
            "   60    1 2043   37    1    5  160    1    8    4  122   10    1    4\n",
            "  117    2 3448   21    1    5   91    6  623    5    4 1323    1   10\n",
            " 2786   49    1   49    1    2   16 1438  622 4489   49 2362    7   12\n",
            " 4490   49    1   21  743    2   35    1    1    3    4  873  477 4491\n",
            "    1    8    4  366    5    1    1    2    1 1790  478    3   15   27\n",
            "    3   10    1  161   22  444   21    1 2787    9  624    1]\n"
          ]
        }
      ],
      "source": [
        "print(train_padded[10])"
      ]
    },
    {
      "cell_type": "markdown",
      "metadata": {
        "id": "Vu6WBDn3gBVn"
      },
      "source": [
        "Hacemos lo propio con el dataset de validación"
      ]
    },
    {
      "cell_type": "code",
      "execution_count": null,
      "metadata": {
        "colab": {
          "base_uri": "https://localhost:8080/"
        },
        "id": "fFXq3RsKzo5F",
        "outputId": "618a9d33-6b32-404c-c75a-c8ac9c615842"
      },
      "outputs": [
        {
          "name": "stdout",
          "output_type": "stream",
          "text": [
            "660\n",
            "(660, 250)\n"
          ]
        }
      ],
      "source": [
        "validation_sequences = tokenizer.texts_to_sequences(validation_articles)\n",
        "validation_padded = pad_sequences(validation_sequences, maxlen=max_length, padding=padding_type, truncating=trunc_type)\n",
        "\n",
        "print(len(validation_sequences))\n",
        "print(validation_padded.shape)"
      ]
    },
    {
      "cell_type": "markdown",
      "metadata": {
        "id": "-TqvV2BVgGeh"
      },
      "source": [
        "Codificamos correctamente las `labels`"
      ]
    },
    {
      "cell_type": "code",
      "execution_count": null,
      "metadata": {
        "colab": {
          "base_uri": "https://localhost:8080/"
        },
        "id": "mH9DeFBf9pgb",
        "outputId": "145fc64b-abfb-47f0-c007-c3ae268c0aad"
      },
      "outputs": [
        {
          "name": "stdout",
          "output_type": "stream",
          "text": [
            "1\n",
            "1\n",
            "0\n",
            "(658,)\n",
            "0\n",
            "1\n",
            "1\n",
            "(660,)\n"
          ]
        }
      ],
      "source": [
        "training_label_seq = np.array(train_labels, dtype=np.int8)\n",
        "validation_label_seq = np.array(validation_labels, dtype=np.int8)\n",
        "print(training_label_seq[0])\n",
        "print(training_label_seq[1])\n",
        "print(training_label_seq[2])\n",
        "print(training_label_seq.shape)\n",
        "\n",
        "print(validation_label_seq[0])\n",
        "print(validation_label_seq[1])\n",
        "print(validation_label_seq[2])\n",
        "print(validation_label_seq.shape)"
      ]
    },
    {
      "cell_type": "markdown",
      "metadata": {
        "id": "xBYiRaVqgNgU"
      },
      "source": [
        "Veamos cómo somos capaces de decodificar una secuencia tokenizada a texto de nuevo gracias al tokenizer que creamos"
      ]
    },
    {
      "cell_type": "code",
      "execution_count": null,
      "metadata": {
        "colab": {
          "base_uri": "https://localhost:8080/"
        },
        "id": "TH1gdnnBdv68",
        "outputId": "be950cfd-f4ba-4c7e-9d4d-fed21ad9b457"
      },
      "outputs": [
        {
          "name": "stdout",
          "output_type": "stream",
          "text": [
            "cantando entre dientes no sé qué <OOV> o <OOV> <OOV> amparo a baltasar y echó tras él como el <OOV> tras la <OOV> que <OOV> <OOV> baltasar las <OOV> de la tribuna y pudo <OOV> <OOV> era solamente que iba <OOV> lo cierto es que se perdió de vista al <OOV> de la esquina y que por muy <OOV> que anduvieron las que lo seguían no <OOV> darle <OOV> voy a llamarle a la puerta exclamó amparo mujer ¿estás loca ¡una casa de la calle mayor murmuró ana con <OOV> miedo ¿tú sabes la que se <OOV> en horas semejantes la calle mayor ofrecía imponente aspecto las altas casas <OOV> por la brillante <OOV> de sus <OOV> <OOV> en cuyos vidrios <OOV> la luz de los faroles estaban cerradas <OOV> y serias algún lejano <OOV> <OOV> allá en lo más remoto y sobre las <OOV> el golpe del <OOV> del sereno <OOV> majestuoso amparo se detuvo ante la casa de los <OOV> era ésta de tres pisos con dos <OOV> blancas muy <OOV> y puerta <OOV> en la cual se <OOV> la mano de bronce del <OOV> y entre el silencio y la calma <OOV> se alzaba tan <OOV> tan <OOV> de su importante papel comercial tan cerrada a los extraños tan <OOV> del sueño de sus <OOV> <OOV> que la tribuna sintió repentino <OOV> en la sangre y <OOV> <OOV> de <OOV> rabia viendo que por más que se <OOV> allí al pie del <OOV> edificio no sería <OOV>\n",
            "---\n",
            "cantando entre dientes no sé qué polca o pasodoble. Reconoció Amparo a Baltasar y echó tras él como el lebrel tras la res que persigue. ¿Oyó Baltasar las pisadas de la Tribuna y pudo reconocerlas? ¿O era solamente que iba deprisa? Lo cierto es que se perdió de vista al revolver de la esquina, y que, por muy diligentes que anduvieron las que lo seguían, no lograron darle alcance. --Voy a llamarle a la puerta--exclamó Amparo. --Mujer, ¿estás loca?... ¡una casa de la calle Mayor!--murmuró Ana con respetuoso miedo--. ¿Tú sabes la que se armaría? En horas semejantes la calle Mayor ofrecía imponente aspecto. Las altas casas, defendidas por la brillante coraza de sus galerías refulgentes, en cuyos vidrios centelleaba la luz de los faroles, estaban cerradas, silenciosas y serias. Algún lejano aldabonazo retumbaba allá... en lo más remoto, y sobre las losas el golpe del chuzo del sereno repercutía majestuoso. Amparo se detuvo ante la casa de los Sobrados. Era ésta de tres pisos, con dos galerías blancas muy encristaladas, y puerta barnizada, en la cual se destacaba la mano de bronce del aldabón. Y entre el silencio y la calma nocturna, se alzaba tan severa, tan penetrada de su importante papel comercial, tan cerrada a los extraños, tan protectora del sueño de sus respetables inquilinos, que la Tribuna sintió repentino hervor en la sangre, y tembló nuevamente de estéril rabia, viendo que por más que se deshiciese allí, al pie del impasible edificio, no sería escuchada ni atendida.\n"
          ]
        }
      ],
      "source": [
        "reverse_word_index = dict([(value, key) for (key, value) in word_index.items()])\n",
        "\n",
        "def decode_article(text):\n",
        "    return ' '.join([reverse_word_index.get(i, '?') for i in text])\n",
        "print(decode_article(train_padded[10]))\n",
        "print('---')\n",
        "print(train_articles[10])"
      ]
    },
    {
      "cell_type": "markdown",
      "metadata": {
        "id": "jpJJ9568OOof"
      },
      "source": [
        "## Construimos nuestra red neuronal"
      ]
    },
    {
      "cell_type": "markdown",
      "metadata": {
        "id": "8JIZ8L8igcS4"
      },
      "source": [
        "- Utilizaremos la `Sequential` API de Keras\n",
        "- Creamos una primera capa de `Embedding`que tiene por tamaño `vocab_size`x `embedding_dim`\n",
        "- Despues añadimos nuestra capa de recurrencia. En este caso será una `LSTM` bidireccional (aprende de izquerida a derecha y de derecha a izquierda)\n",
        "- Conectamos la salida de esa capa a una capa `Dense`.\n",
        "- Por último, conectamos todo a una capa `Dense`con función de activación `sigmoid`ya que nuestro problema de clasificación es binario."
      ]
    },
    {
      "cell_type": "code",
      "execution_count": null,
      "metadata": {
        "colab": {
          "base_uri": "https://localhost:8080/"
        },
        "id": "-u21q7CPdyxj",
        "outputId": "8bbcb6e2-a7b4-474e-9b8f-9f690e22512f"
      },
      "outputs": [
        {
          "name": "stdout",
          "output_type": "stream",
          "text": [
            "Model: \"sequential\"\n",
            "_________________________________________________________________\n",
            " Layer (type)                Output Shape              Param #   \n",
            "=================================================================\n",
            " embedding (Embedding)       (None, None, 64)          320000    \n",
            "                                                                 \n",
            " bidirectional (Bidirectiona  (None, 128)              66048     \n",
            " l)                                                              \n",
            "                                                                 \n",
            " dense (Dense)               (None, 64)                8256      \n",
            "                                                                 \n",
            " dense_1 (Dense)             (None, 1)                 65        \n",
            "                                                                 \n",
            "=================================================================\n",
            "Total params: 394,369\n",
            "Trainable params: 394,369\n",
            "Non-trainable params: 0\n",
            "_________________________________________________________________\n"
          ]
        }
      ],
      "source": [
        "model = tf.keras.Sequential([\n",
        "    tf.keras.layers.Embedding(vocab_size, embedding_dim),\n",
        "    tf.keras.layers.Bidirectional(tf.keras.layers.LSTM(embedding_dim)),\n",
        "    tf.keras.layers.Dense(embedding_dim, activation='relu'),\n",
        "    tf.keras.layers.Dense(1, activation='sigmoid')\n",
        "])\n",
        "model.summary()"
      ]
    },
    {
      "cell_type": "code",
      "execution_count": null,
      "metadata": {
        "id": "tRC4gdpTOdJ2"
      },
      "outputs": [],
      "source": [
        "model.compile(loss='binary_crossentropy', optimizer='adam', metrics=['accuracy'])"
      ]
    },
    {
      "cell_type": "markdown",
      "metadata": {
        "id": "wku8-NcvOiEl"
      },
      "source": [
        "## Entrenamos nuestro modelo"
      ]
    },
    {
      "cell_type": "code",
      "execution_count": null,
      "metadata": {
        "colab": {
          "base_uri": "https://localhost:8080/"
        },
        "id": "CCq0VEY3Of51",
        "outputId": "a14e2bb3-3ce1-423d-af72-9f9f1e77b1a8"
      },
      "outputs": [
        {
          "name": "stdout",
          "output_type": "stream",
          "text": [
            "Epoch 1/4\n",
            "21/21 - 5s - loss: 0.0103 - accuracy: 1.0000 - val_loss: 0.2463 - val_accuracy: 0.9212 - 5s/epoch - 252ms/step\n",
            "Epoch 2/4\n",
            "21/21 - 8s - loss: 3.9817e-04 - accuracy: 1.0000 - val_loss: 0.3010 - val_accuracy: 0.9197 - 8s/epoch - 371ms/step\n",
            "Epoch 3/4\n",
            "21/21 - 6s - loss: 1.4113e-04 - accuracy: 1.0000 - val_loss: 0.2337 - val_accuracy: 0.9303 - 6s/epoch - 305ms/step\n",
            "Epoch 4/4\n",
            "21/21 - 4s - loss: 1.0493e-04 - accuracy: 1.0000 - val_loss: 0.2410 - val_accuracy: 0.9318 - 4s/epoch - 212ms/step\n"
          ]
        }
      ],
      "source": [
        "num_epochs = 4\n",
        "history = model.fit(train_padded, training_label_seq, epochs=num_epochs, validation_data=(validation_padded, validation_label_seq), verbose=2)"
      ]
    },
    {
      "cell_type": "markdown",
      "metadata": {
        "id": "juWKrCZROpaN"
      },
      "source": [
        "## Visualizamos los resultados"
      ]
    },
    {
      "cell_type": "code",
      "execution_count": null,
      "metadata": {
        "colab": {
          "base_uri": "https://localhost:8080/",
          "height": 541
        },
        "id": "tQ2VSuHpd18X",
        "outputId": "4d2895ba-beb5-4e8f-acc0-5f0d2f24e452"
      },
      "outputs": [
        {
          "data": {
            "image/png": "[encoded data removed]",
            "text/plain": [
              "<Figure size 432x288 with 1 Axes>"
            ]
          },
          "metadata": {
            "needs_background": "light"
          },
          "output_type": "display_data"
        },
        {
          "data": {
            "image/png": "[encoded data removed]",
            "text/plain": [
              "<Figure size 432x288 with 1 Axes>"
            ]
          },
          "metadata": {
            "needs_background": "light"
          },
          "output_type": "display_data"
        }
      ],
      "source": [
        "def plot_graphs(history, string):\n",
        "  plt.plot(history.history[string])\n",
        "  plt.plot(history.history['val_'+string])\n",
        "  plt.xlabel(\"Epochs\")\n",
        "  plt.ylabel(string)\n",
        "  plt.legend([string, 'val_'+string])\n",
        "  plt.show()\n",
        "  \n",
        "plot_graphs(history, \"accuracy\")\n",
        "plot_graphs(history, \"loss\")"
      ]
    },
    {
      "cell_type": "markdown",
      "metadata": {
        "id": "mbWlCoZrO3FG"
      },
      "source": [
        "## Probemos nuestro modelo"
      ]
    },
    {
      "cell_type": "code",
      "execution_count": null,
      "metadata": {
        "colab": {
          "base_uri": "https://localhost:8080/"
        },
        "id": "E8m7ukwrZjRs",
        "outputId": "c64cdeb7-be52-4515-99df-0ac1c5b4cd74"
      },
      "outputs": [
        {
          "data": {
            "text/plain": [
              "('si por acaso... Quita, quita, pensamiento y no me tientes con una sospecha, que parece tan verosímil... El mismo Feijoo quizás... puede... habrá tenido... y ahora... Sobre esto quiero echar tierra, porque me volvería loca. La verdad es que el pobre señor ha dado un bajón tremendo y no debe de haber estado para morisquetas de algunos meses acá. ¡Si será cierto lo que dice!... ¡Caridad, lástima, arrepentimiento... necesidad de transigir, decoro, reconciliación...!». Otro inciso. Miró a la calle y vio por segunda vez a Guillermina que subía. «¿Pero qué trae en la mano?, un palo y un garfio de hierro. ¡Vaya con la santa esta! Algo que le han dado. Dicen que lo acepta todo. Véase por dónde yo le podría ayudar a su obra, dándole media docena de llaves viejas que tengo aquí. Aquella tabla que lleva parece una plantilla... Toma, como que vendrá del almacén de maderas de la calle de Valencia. Vaya unos trajines... Vea usted una cosa que a mí me gustaría, edificar un _establecimiento_, pidiéndole dinero al Verbo... Lo haría yo tan grande como el Escorial...». Cerrado el inciso, y otra vez al tema: «¡Vaya con lo que me ha dicho esta mañana Nicolás: que Feijoo es el primer caballero de Madrid y que le ha prometido una canonjía! Si se la dan, ya no me queda nada que ver. Yo me alegraría, para quitarme esa carga de encima; pero ¡qué tiempos y qué Gobiernos! ¡Ah!, si yo gobernara, si yo fuera ministra, ¡qué',\n",
              " 1)"
            ]
          },
          "execution_count": 28,
          "metadata": {},
          "output_type": "execute_result"
        }
      ],
      "source": [
        "validation_articles[50], validation_label_seq[50]"
      ]
    },
    {
      "cell_type": "code",
      "execution_count": null,
      "metadata": {
        "colab": {
          "base_uri": "https://localhost:8080/"
        },
        "id": "W2Iip3Acd49N",
        "outputId": "c9dfa26a-0e42-413b-f9d9-fc54d8b1fa99"
      },
      "outputs": [
        {
          "name": "stdout",
          "output_type": "stream",
          "text": [
            "[[0.9653466]]\n",
            "Parece una secuencia de una novela de Galdós\n"
          ]
        }
      ],
      "source": [
        "txt = ['''la terquedad de que todas las personas de la familia se confabulaban contra él para atormentarle''']\n",
        "\n",
        "seq = tokenizer.texts_to_sequences(txt)\n",
        "padded = pad_sequences(seq, maxlen=max_length)\n",
        "pred = model.predict(padded)\n",
        "print(pred)\n",
        "print(\"Parece una secuencia de una novela de Galdós\" if pred[0] > 0.5 else \"Parece que esta novela pertenece a Emilia Pardo Bazán\")"
      ]
    },
    {
      "cell_type": "code",
      "execution_count": null,
      "metadata": {
        "id": "XeXJ1o80O9Yw"
      },
      "outputs": [],
      "source": []
    }
  ],
  "metadata": {
    "colab": {
      "collapsed_sections": [],
      "name": "Clasificador LSTM novelas Español",
      "provenance": []
    },
    "kernelspec": {
      "display_name": "Python 3",
      "name": "python3"
    },
    "language_info": {
      "name": "python"
    }
  },
  "nbformat": 4,
  "nbformat_minor": 0
}
